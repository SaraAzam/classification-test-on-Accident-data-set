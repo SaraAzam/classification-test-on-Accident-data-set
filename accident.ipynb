{
  "nbformat": 4,
  "nbformat_minor": 0,
  "metadata": {
    "colab": {
      "name": "accident",
      "provenance": [],
      "collapsed_sections": []
    },
    "kernelspec": {
      "name": "python3",
      "display_name": "Python 3"
    }
  },
  "cells": [
    {
      "cell_type": "code",
      "metadata": {
        "id": "rkloHa-bz08e",
        "colab": {
          "base_uri": "https://localhost:8080/"
        },
        "outputId": "a5cffe07-199f-4a51-f6e9-896e0cc5be33"
      },
      "source": [
        "import pandas as pd\n",
        "# datasert load\n",
        "dataset = pd.read_csv(\"/content/Accident1.csv\")\n",
        "print(dataset.head())\n",
        "X_features_input = dataset.iloc[:, :-1].values #features[rows, columms]\n",
        "y_label_output = dataset.iloc[:, 3].values\n",
        "from sklearn.model_selection import train_test_split\n",
        "X_train, X_test, y_train, y_test = train_test_split(X_features_input, y_label_output, test_size=0.20, random_state=5)\n",
        "from sklearn.naive_bayes import GaussianNB\n",
        "classifier = GaussianNB()\n",
        "classifier.fit(X_train, y_train) # X_train = features #y_train= lable\n",
        "# now we have to take prediction on testing data\n",
        "y_pred = classifier.predict(X_test) #here we only pass the features\n",
        "# from sklearn.metrics import classification_report, confusion_matrix\n",
        "# print(confusion_matrix(y_test, y_pred))\n",
        "#print(classification_report(y_test, y_pred))\n",
        "from sklearn.metrics import accuracy_score\n",
        "print('Accuracy Score: ', accuracy_score(y_pred, y_test))"
      ],
      "execution_count": null,
      "outputs": [
        {
          "output_type": "stream",
          "text": [
            "   Age_of_Casualty  Pedestrian_Movement  Gender_of_Casualty  Accident\n",
            "0               23                    0                   1         0\n",
            "1               36                    0                   2         0\n",
            "2               24                    0                   1         0\n",
            "3               59                    0                   2         1\n",
            "4               28                    0                   1         1\n",
            "Accuracy Score:  0.58\n"
          ],
          "name": "stdout"
        }
      ]
    },
    {
      "cell_type": "code",
      "metadata": {
        "colab": {
          "base_uri": "https://localhost:8080/"
        },
        "id": "zROlTjow7qG5",
        "outputId": "5bdf8b9f-9420-4418-de1f-5591ff37aaa9"
      },
      "source": [
        "import pandas as pd\n",
        "# datasert load\n",
        "dataset = pd.read_csv(\"/content/Accident1.csv\")\n",
        "print(dataset.head())\n",
        "X_features_input = dataset.iloc[:, :-1].values #features[rows, columms]\n",
        "y_label_output = dataset.iloc[:, 3].values\n",
        "from sklearn.model_selection import train_test_split\n",
        "X_train, X_test, y_train, y_test = train_test_split(X_features_input, y_label_output, test_size=0.20, random_state=5)\n",
        "from sklearn.svm import SVC\n",
        "svclassifier = SVC(kernel='linear')\n",
        "svclassifier.fit(X_train, y_train)\n",
        "# to train the model you have to use the function of \"fit()\"\n",
        "# while traininf we only pass the 80 percent of our data\n",
        "svclassifier.fit(X_train, y_train) # X_train = features #y_train= lable\n",
        "# now we have to take prediction on testing data\n",
        "y_pred = svclassifier.predict(X_test) #here we only pass the features\n",
        "# from sklearn.metrics import classification_report, confusion_matrix\n",
        "# print(confusion_matrix(y_test, y_pred))\n",
        "#print(classification_report(y_test, y_pred))\n",
        "from sklearn.metrics import accuracy_score\n",
        "print('Accuracy Score: ', accuracy_score(y_pred, y_test)) #y_pred is the output"
      ],
      "execution_count": null,
      "outputs": [
        {
          "output_type": "stream",
          "text": [
            "   Age_of_Casualty  Pedestrian_Movement  Gender_of_Casualty  Accident\n",
            "0               23                    0                   1         0\n",
            "1               36                    0                   2         0\n",
            "2               24                    0                   1         0\n",
            "3               59                    0                   2         1\n",
            "4               28                    0                   1         1\n",
            "Accuracy Score:  0.6\n"
          ],
          "name": "stdout"
        }
      ]
    },
    {
      "cell_type": "code",
      "metadata": {
        "colab": {
          "base_uri": "https://localhost:8080/"
        },
        "id": "Cl9WvE9q_eza",
        "outputId": "327af3a8-588b-4858-bd91-e7c04840cc35"
      },
      "source": [
        "import pandas as pd\n",
        "# datasert load\n",
        "dataset = pd.read_csv(\"/content/Accident1.csv\")\n",
        "print(dataset.head())\n",
        "X_features_input = dataset.iloc[:, :-1].values #features[rows, columms]\n",
        "y_label_output = dataset.iloc[:, 3].values\n",
        "from sklearn.model_selection import train_test_split\n",
        "X_train, X_test, y_train, y_test = train_test_split(X_features_input, y_label_output, test_size=0.20, random_state=5)\n",
        "from sklearn.tree import DecisionTreeClassifier\n",
        "classifier = DecisionTreeClassifier()\n",
        "classifier.fit(X_train, y_train)    \n",
        "# to train the model you have to use the function of \"fit()\"\n",
        "# while traininf we only pass the 80 percent of our data\n",
        "classifier.fit(X_train, y_train) # X_train = features #y_train= lable\n",
        "# now we have to take prediction on testing data\n",
        "y_pred = classifier.predict(X_test) #here we only pass the features\n",
        "# from sklearn.metrics import classification_report, confusion_matrix\n",
        "# print(confusion_matrix(y_test, y_pred))\n",
        "#print(classification_report(y_test, y_pred))\n",
        "from sklearn.metrics import accuracy_score\n",
        "print('Accuracy Score: ', accuracy_score(y_pred, y_test)) #y_pred is the output"
      ],
      "execution_count": null,
      "outputs": [
        {
          "output_type": "stream",
          "text": [
            "   Age_of_Casualty  Pedestrian_Movement  Gender_of_Casualty  Accident\n",
            "0               23                    0                   1         0\n",
            "1               36                    0                   2         0\n",
            "2               24                    0                   1         0\n",
            "3               59                    0                   2         1\n",
            "4               28                    0                   1         1\n",
            "Accuracy Score:  0.43\n"
          ],
          "name": "stdout"
        }
      ]
    },
    {
      "cell_type": "code",
      "metadata": {
        "colab": {
          "base_uri": "https://localhost:8080/"
        },
        "id": "9ilgT7e0_9_e",
        "outputId": "1ff0cb3d-7783-42cd-af12-1ead24307d00"
      },
      "source": [
        "import pandas as pd\n",
        "# datasert load\n",
        "dataset = pd.read_csv(\"/content/Accident1.csv\")\n",
        "print(dataset.head())\n",
        "X_features_input = dataset.iloc[:, :-1].values #features[rows, columms]\n",
        "y_label_output = dataset.iloc[:, 3].values\n",
        "from sklearn.model_selection import train_test_split\n",
        "X_train, X_test, y_train, y_test = train_test_split(X_features_input, y_label_output, test_size=0.20, random_state=5)\n",
        "from sklearn.neighbors import KNeighborsClassifier\n",
        "classifier = KNeighborsClassifier(n_neighbors=5)\n",
        "# to train the model you have to use the function of \"fit()\"\n",
        "# while traininf we only pass the 80 percent of our data\n",
        "classifier.fit(X_train, y_train) # X_train = features #y_train= lable\n",
        "# now we have to take prediction on testing data\n",
        "y_pred = classifier.predict(X_test) #here we only pass the features\n",
        "# from sklearn.metrics import classification_report, confusion_matrix\n",
        "# print(confusion_matrix(y_test, y_pred))\n",
        "#print(classification_report(y_test, y_pred))\n",
        "from sklearn.metrics import accuracy_score\n",
        "print('Accuracy Score: ', accuracy_score(y_pred, y_test)) #y_pred is the output\n"
      ],
      "execution_count": null,
      "outputs": [
        {
          "output_type": "stream",
          "text": [
            "   Age_of_Casualty  Pedestrian_Movement  Gender_of_Casualty  Accident\n",
            "0               23                    0                   1         0\n",
            "1               36                    0                   2         0\n",
            "2               24                    0                   1         0\n",
            "3               59                    0                   2         1\n",
            "4               28                    0                   1         1\n",
            "Accuracy Score:  0.55\n"
          ],
          "name": "stdout"
        }
      ]
    }
  ]
}